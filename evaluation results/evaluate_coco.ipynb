{
 "cells": [
  {
   "cell_type": "code",
   "execution_count": 1,
   "metadata": {},
   "outputs": [],
   "source": [
    "import os\n",
    "os.chdir('D:\\\\practicum\\\\practicum code\\\\visual-semantic-embedding-master')"
   ]
  },
  {
   "cell_type": "code",
   "execution_count": 2,
   "metadata": {},
   "outputs": [],
   "source": [
    "import tools, evaluation"
   ]
  },
  {
   "cell_type": "code",
   "execution_count": 3,
   "metadata": {
    "scrolled": false
   },
   "outputs": [
    {
     "name": "stdout",
     "output_type": "stream",
     "text": [
      "D:/practicum/kiros data/train/coco.npz\n",
      "Loading dictionary...\n",
      "Creating inverted dictionary...\n",
      "Loading model options...\n",
      "Loading model parameters...\n",
      "Compiling sentence encoder...\n",
      "Compiling image encoder...\n",
      "Packing up...\n"
     ]
    }
   ],
   "source": [
    "#coco dataset\n",
    "model = tools.load_model()"
   ]
  },
  {
   "cell_type": "markdown",
   "metadata": {},
   "source": [
    "Evaluattion of the validation set.\n",
    "Evaluating using Recall@k and Medidan rank evaluation.\n",
    "Results for recall@1, recall@5, recall@10 and median rank evaluation respectively"
   ]
  },
  {
   "cell_type": "code",
   "execution_count": 5,
   "metadata": {},
   "outputs": [
    {
     "name": "stdout",
     "output_type": "stream",
     "text": [
      "Loading dataset\n",
      "Computing results...\n",
      "Image to text: 43.6, 77.3, 88.0, 2.0\n",
      "Text to image: 32.5, 67.8, 81.2, 3.0\n"
     ]
    }
   ],
   "source": [
    "evaluation.evalrank(model, data='coco', split='dev')"
   ]
  },
  {
   "cell_type": "markdown",
   "metadata": {},
   "source": [
    "Evaluattion of the test set.\n",
    "Evaluating using Recall@k and Medidan rank evaluation.\n",
    "Results for recall@1, recall@5, recall@10 and median rank evaluation respectively"
   ]
  },
  {
   "cell_type": "code",
   "execution_count": 5,
   "metadata": {},
   "outputs": [
    {
     "name": "stdout",
     "output_type": "stream",
     "text": [
      "Loading dataset\n",
      "Computing results...\n",
      "Image to text: 43.6, 73.7, 84.9, 2.0\n",
      "Text to image: 31.3, 66.0, 79.5, 3.0\n"
     ]
    }
   ],
   "source": [
    "evaluation.evalrank(model, data='coco', split='test')"
   ]
  },
  {
   "cell_type": "code",
   "execution_count": null,
   "metadata": {},
   "outputs": [],
   "source": []
  }
 ],
 "metadata": {
  "kernelspec": {
   "display_name": "Python 2",
   "language": "python",
   "name": "python2"
  },
  "language_info": {
   "codemirror_mode": {
    "name": "ipython",
    "version": 2
   },
   "file_extension": ".py",
   "mimetype": "text/x-python",
   "name": "python",
   "nbconvert_exporter": "python",
   "pygments_lexer": "ipython2",
   "version": "2.7.15"
  }
 },
 "nbformat": 4,
 "nbformat_minor": 2
}
